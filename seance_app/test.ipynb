{
 "cells": [
  {
   "cell_type": "code",
   "execution_count": 1,
   "metadata": {},
   "outputs": [],
   "source": [
    "import pandas as pd\n",
    "import datetime"
   ]
  },
  {
   "cell_type": "code",
   "execution_count": 2,
   "metadata": {},
   "outputs": [],
   "source": [
    "data = pd.read_csv(\"moxy_data.csv\", header=2)"
   ]
  },
  {
   "cell_type": "code",
   "execution_count": 11,
   "metadata": {},
   "outputs": [
    {
     "data": {
      "text/html": [
       "<div>\n",
       "<style scoped>\n",
       "    .dataframe tbody tr th:only-of-type {\n",
       "        vertical-align: middle;\n",
       "    }\n",
       "\n",
       "    .dataframe tbody tr th {\n",
       "        vertical-align: top;\n",
       "    }\n",
       "\n",
       "    .dataframe thead th {\n",
       "        text-align: right;\n",
       "    }\n",
       "</style>\n",
       "<table border=\"1\" class=\"dataframe\">\n",
       "  <thead>\n",
       "    <tr style=\"text-align: right;\">\n",
       "      <th></th>\n",
       "      <th>mm-dd</th>\n",
       "      <th>hh:mm:ss</th>\n",
       "      <th>SmO2 Live</th>\n",
       "      <th>SmO2 Averaged</th>\n",
       "      <th>THb</th>\n",
       "      <th>Lap</th>\n",
       "      <th>Session Ct</th>\n",
       "      <th>Unnamed: 7</th>\n",
       "    </tr>\n",
       "  </thead>\n",
       "  <tbody>\n",
       "    <tr>\n",
       "      <th>0</th>\n",
       "      <td>12-3</td>\n",
       "      <td>13:21:0</td>\n",
       "      <td>42</td>\n",
       "      <td>42</td>\n",
       "      <td>13.00</td>\n",
       "      <td>11</td>\n",
       "      <td>28</td>\n",
       "      <td>NaN</td>\n",
       "    </tr>\n",
       "    <tr>\n",
       "      <th>1</th>\n",
       "      <td>12-3</td>\n",
       "      <td>13:21:0</td>\n",
       "      <td>42</td>\n",
       "      <td>42</td>\n",
       "      <td>12.99</td>\n",
       "      <td>11</td>\n",
       "      <td>28</td>\n",
       "      <td>NaN</td>\n",
       "    </tr>\n",
       "    <tr>\n",
       "      <th>2</th>\n",
       "      <td>12-3</td>\n",
       "      <td>13:21:1</td>\n",
       "      <td>43</td>\n",
       "      <td>43</td>\n",
       "      <td>13.03</td>\n",
       "      <td>11</td>\n",
       "      <td>28</td>\n",
       "      <td>NaN</td>\n",
       "    </tr>\n",
       "    <tr>\n",
       "      <th>3</th>\n",
       "      <td>12-3</td>\n",
       "      <td>13:21:1</td>\n",
       "      <td>42</td>\n",
       "      <td>42</td>\n",
       "      <td>13.06</td>\n",
       "      <td>11</td>\n",
       "      <td>28</td>\n",
       "      <td>NaN</td>\n",
       "    </tr>\n",
       "    <tr>\n",
       "      <th>4</th>\n",
       "      <td>12-3</td>\n",
       "      <td>13:21:2</td>\n",
       "      <td>44</td>\n",
       "      <td>44</td>\n",
       "      <td>13.02</td>\n",
       "      <td>11</td>\n",
       "      <td>28</td>\n",
       "      <td>NaN</td>\n",
       "    </tr>\n",
       "  </tbody>\n",
       "</table>\n",
       "</div>"
      ],
      "text/plain": [
       "  mm-dd hh:mm:ss  SmO2 Live  SmO2 Averaged    THb  Lap  Session Ct  Unnamed: 7\n",
       "0  12-3  13:21:0         42             42  13.00   11          28         NaN\n",
       "1  12-3  13:21:0         42             42  12.99   11          28         NaN\n",
       "2  12-3  13:21:1         43             43  13.03   11          28         NaN\n",
       "3  12-3  13:21:1         42             42  13.06   11          28         NaN\n",
       "4  12-3  13:21:2         44             44  13.02   11          28         NaN"
      ]
     },
     "execution_count": 11,
     "metadata": {},
     "output_type": "execute_result"
    }
   ],
   "source": [
    "data.head()"
   ]
  },
  {
   "cell_type": "code",
   "execution_count": 14,
   "metadata": {},
   "outputs": [
    {
     "data": {
      "text/plain": [
       "'12-3-13:21:0'"
      ]
     },
     "execution_count": 14,
     "metadata": {},
     "output_type": "execute_result"
    }
   ],
   "source": [
    "data[\"mm-dd\"][0] + \"-\" + data[\"hh:mm:ss\"][0]"
   ]
  },
  {
   "cell_type": "code",
   "execution_count": 16,
   "metadata": {},
   "outputs": [
    {
     "data": {
      "text/plain": [
       "Timestamp('1900-12-03 13:21:00')"
      ]
     },
     "execution_count": 16,
     "metadata": {},
     "output_type": "execute_result"
    }
   ],
   "source": [
    "pd.to_datetime(data[\"mm-dd\"][0] + \"-\" + data[\"hh:mm:ss\"][0], format=\"%m-%d-%H:%M:%S\")"
   ]
  },
  {
   "cell_type": "code",
   "execution_count": 3,
   "metadata": {},
   "outputs": [],
   "source": [
    "today = datetime.date.today()\n",
    "year = today.year\n",
    "data[\"Date\"] = pd.to_datetime(\n",
    "    str(year) + \"-\" + data[\"mm-dd\"] + \"-\" + data[\"hh:mm:ss\"], format=\"%Y-%m-%d-%H:%M:%S\")"
   ]
  },
  {
   "cell_type": "code",
   "execution_count": 4,
   "metadata": {},
   "outputs": [
    {
     "data": {
      "text/plain": [
       "0      2023-12-03 13:21:00\n",
       "1      2023-12-03 13:21:00\n",
       "2      2023-12-03 13:21:01\n",
       "3      2023-12-03 13:21:01\n",
       "4      2023-12-03 13:21:02\n",
       "               ...        \n",
       "9994   2023-12-13 15:02:48\n",
       "9995   2023-12-13 15:02:49\n",
       "9996   2023-12-13 15:02:50\n",
       "9997   2023-12-13 15:02:51\n",
       "9998   2023-12-13 15:02:52\n",
       "Name: Date, Length: 9999, dtype: datetime64[ns]"
      ]
     },
     "execution_count": 4,
     "metadata": {},
     "output_type": "execute_result"
    }
   ],
   "source": [
    "data[\"Date\"]"
   ]
  },
  {
   "cell_type": "code",
   "execution_count": 10,
   "metadata": {},
   "outputs": [
    {
     "data": {
      "text/plain": [
       "array([28, 29, 30, 31], dtype=int64)"
      ]
     },
     "execution_count": 10,
     "metadata": {},
     "output_type": "execute_result"
    }
   ],
   "source": [
    "data[\"Session Ct\"].unique()"
   ]
  },
  {
   "cell_type": "code",
   "execution_count": 11,
   "metadata": {},
   "outputs": [
    {
     "data": {
      "text/plain": [
       "RangeIndex(start=0, stop=9999, step=1)"
      ]
     },
     "execution_count": 11,
     "metadata": {},
     "output_type": "execute_result"
    }
   ],
   "source": [
    "data.index"
   ]
  },
  {
   "cell_type": "code",
   "execution_count": 13,
   "metadata": {},
   "outputs": [],
   "source": [
    "date = \"2023-12-03 13:40:20\"\n",
    "filtered_df = data.query(\"Date == @date\")"
   ]
  },
  {
   "cell_type": "code",
   "execution_count": 14,
   "metadata": {},
   "outputs": [
    {
     "data": {
      "text/html": [
       "<div>\n",
       "<style scoped>\n",
       "    .dataframe tbody tr th:only-of-type {\n",
       "        vertical-align: middle;\n",
       "    }\n",
       "\n",
       "    .dataframe tbody tr th {\n",
       "        vertical-align: top;\n",
       "    }\n",
       "\n",
       "    .dataframe thead th {\n",
       "        text-align: right;\n",
       "    }\n",
       "</style>\n",
       "<table border=\"1\" class=\"dataframe\">\n",
       "  <thead>\n",
       "    <tr style=\"text-align: right;\">\n",
       "      <th></th>\n",
       "      <th>mm-dd</th>\n",
       "      <th>hh:mm:ss</th>\n",
       "      <th>SmO2 Live</th>\n",
       "      <th>SmO2 Averaged</th>\n",
       "      <th>THb</th>\n",
       "      <th>Lap</th>\n",
       "      <th>Session Ct</th>\n",
       "      <th>Unnamed: 7</th>\n",
       "      <th>Date</th>\n",
       "    </tr>\n",
       "  </thead>\n",
       "  <tbody>\n",
       "    <tr>\n",
       "      <th>2320</th>\n",
       "      <td>12-3</td>\n",
       "      <td>13:40:20</td>\n",
       "      <td>55</td>\n",
       "      <td>55</td>\n",
       "      <td>12.96</td>\n",
       "      <td>11</td>\n",
       "      <td>28</td>\n",
       "      <td>NaN</td>\n",
       "      <td>2023-12-03 13:40:20</td>\n",
       "    </tr>\n",
       "    <tr>\n",
       "      <th>2321</th>\n",
       "      <td>12-3</td>\n",
       "      <td>13:40:20</td>\n",
       "      <td>54</td>\n",
       "      <td>54</td>\n",
       "      <td>12.92</td>\n",
       "      <td>11</td>\n",
       "      <td>28</td>\n",
       "      <td>NaN</td>\n",
       "      <td>2023-12-03 13:40:20</td>\n",
       "    </tr>\n",
       "  </tbody>\n",
       "</table>\n",
       "</div>"
      ],
      "text/plain": [
       "     mm-dd  hh:mm:ss  SmO2 Live  SmO2 Averaged    THb  Lap  Session Ct  \\\n",
       "2320  12-3  13:40:20         55             55  12.96   11          28   \n",
       "2321  12-3  13:40:20         54             54  12.92   11          28   \n",
       "\n",
       "      Unnamed: 7                Date  \n",
       "2320         NaN 2023-12-03 13:40:20  \n",
       "2321         NaN 2023-12-03 13:40:20  "
      ]
     },
     "execution_count": 14,
     "metadata": {},
     "output_type": "execute_result"
    }
   ],
   "source": [
    "filtered_df"
   ]
  },
  {
   "cell_type": "code",
   "execution_count": null,
   "metadata": {},
   "outputs": [],
   "source": []
  }
 ],
 "metadata": {
  "kernelspec": {
   "display_name": "venv",
   "language": "python",
   "name": "python3"
  },
  "language_info": {
   "codemirror_mode": {
    "name": "ipython",
    "version": 3
   },
   "file_extension": ".py",
   "mimetype": "text/x-python",
   "name": "python",
   "nbconvert_exporter": "python",
   "pygments_lexer": "ipython3",
   "version": "3.11.0"
  },
  "orig_nbformat": 4,
  "vscode": {
   "interpreter": {
    "hash": "902a009ff7db19e5fc67c8e0ba1d846de92245c53c43a91e36731cd32bee5f38"
   }
  }
 },
 "nbformat": 4,
 "nbformat_minor": 2
}
